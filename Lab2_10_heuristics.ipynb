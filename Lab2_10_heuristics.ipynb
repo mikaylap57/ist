{
  "nbformat": 4,
  "nbformat_minor": 0,
  "metadata": {
    "colab": {
      "name": "Lab2 -10 heuristics.ipynb",
      "provenance": [],
      "include_colab_link": true
    },
    "kernelspec": {
      "name": "python3",
      "display_name": "Python 3"
    }
  },
  "cells": [
    {
      "cell_type": "markdown",
      "metadata": {
        "id": "view-in-github",
        "colab_type": "text"
      },
      "source": [
        "<a href=\"https://colab.research.google.com/github/mikaylap57/ist/blob/master/Lab2_10_heuristics.ipynb\" target=\"_parent\"><img src=\"https://colab.research.google.com/assets/colab-badge.svg\" alt=\"Open In Colab\"/></a>"
      ]
    },
    {
      "cell_type": "markdown",
      "metadata": {
        "id": "6JgrRYtyWUTc",
        "colab_type": "text"
      },
      "source": [
        "# Ten Usability Heuristics\n",
        "\n",
        "### Developed by Jakob Nielsen"
      ]
    },
    {
      "cell_type": "markdown",
      "metadata": {
        "id": "ep30Q_iPWdnT",
        "colab_type": "text"
      },
      "source": [
        "For our lab, we will be evaluating the ten heuristics using the following webpage: \n",
        "\n",
        "- https://www.apple.com"
      ]
    },
    {
      "cell_type": "markdown",
      "metadata": {
        "id": "p1w1Wmt5WuFD",
        "colab_type": "text"
      },
      "source": [
        "### Visibility of system status\n",
        "The system should always keep users informed about what is going on, through appropriate feedback within reasonable time.\n",
        "\n",
        "-  ![visibility of system status](https://raw.githubusercontent.com/mikaylap57/ist/master/images/i1.jpg)\n",
        "\n",
        "The website adheres to the heuristic by making the consumer aware of the status of their orders by being able to track shipments, payments, and other delivery updates.  The user is provided with updates as things progress and they are always able to go on the website and check for themselves."
      ]
    },
    {
      "cell_type": "markdown",
      "metadata": {
        "id": "gL-x1q02W1Vk",
        "colab_type": "text"
      },
      "source": [
        "### Match between system and the real world\n",
        "The system should speak the users' language, with words, phrases and concepts familiar to the user, rather than system-oriented terms. Follow real-world conventions, making information appear in a natural and logical order.\n",
        "\n",
        "- ![match between system and the real world 1](https://raw.githubusercontent.com/mikaylap57/ist/master/images/i2.jpg) \n",
        "- ![match between system and the real world 2](https://raw.githubusercontent.com/mikaylap57/ist/master/images/i3.jpg)\n",
        "Apple adheres to the usability heuristic by making product testing readily available to consumers, even through a website.  They do this with the use of AR as you can look at their products integrated in the world around us.  With something as easy as holding up your phone, you can view what exactly a product looks like.\n"
      ]
    },
    {
      "cell_type": "markdown",
      "metadata": {
        "id": "p9WB5-rtZd9I",
        "colab_type": "text"
      },
      "source": [
        "### User control and freedom\n",
        "Users often choose system functions by mistake and will need a clearly marked \"emergency exit\" to leave the unwanted state without having to go through an extended dialogue. Support undo and redo.\n",
        "\n",
        "- ![user control and freedom](https://raw.githubusercontent.com/mikaylap57/ist/master/images/i4.jpg)\n",
        "\n",
        "The Apple website adheres to the 10 heuristics, particularly user control and freedom, by giving the user the chance to back out or undo a choice they have made.  In this example, the user has chosen to delete something from their cart, they are given the option to undo this change if they so choose to without having to go through the process of adding it again.\n"
      ]
    },
    {
      "cell_type": "markdown",
      "metadata": {
        "id": "lX7j0pZ8Zedg",
        "colab_type": "text"
      },
      "source": [
        "### Consistency and standards\n",
        "Users should not have to wonder whether different words, situations, or actions mean the same thing. Follow platform conventions.\n",
        "\n",
        "- ![consistency and standards](https://raw.githubusercontent.com/mikaylap57/ist/master/images/i5.jpg) \n",
        "\n",
        "The website adheres to the heuristics by keeping everything visually consistent.  As can be seen within the example, everything is kept to the same scale with the images of the products in order for the consumer to have a better understanding of size differences.  The buttons for different options are also kept the same and leave a clean finish to the look of the site."
      ]
    },
    {
      "cell_type": "markdown",
      "metadata": {
        "id": "ER6ArHdmZfSI",
        "colab_type": "text"
      },
      "source": [
        "### Error prevention\n",
        "Even better than good error messages is a careful design which prevents a problem from occurring in the first place. Either eliminate error-prone conditions or check for them and present users with a confirmation option before they commit to the action.\n",
        "\n",
        "- ![error prevention](https://raw.githubusercontent.com/mikaylap57/ist/master/images/i6.jpg) \n",
        "\n",
        "Apple adheres to the usability heuristic by stopping the user from moving forward if there is an error with information they have provided.  The website highlights what information is possibly missing or incorrect as a way to stop and address the issue.  This prevents errors from occurring later in the process of the user using the website.\n"
      ]
    },
    {
      "cell_type": "markdown",
      "metadata": {
        "id": "9M3cqXkLZf7B",
        "colab_type": "text"
      },
      "source": [
        "### Recognition rather than recall\n",
        "Error messages should be expressed in plain language (no codes), precisely indicate the problem, and constructively suggest a solution.\n",
        "\n",
        "- ![recognition rather than recall](https://raw.githubusercontent.com/mikaylap57/ist/master/images/i7.jpg)\n",
        "\n",
        "The website adheres to this heuristic because it allows users to use memory recognition instead of recalling information. By using recognition there are more cues available to the user to help retrieve information from memory. In this case, Apple uses both icons and text cues to communicate with users.\n"
      ]
    },
    {
      "cell_type": "markdown",
      "metadata": {
        "id": "B4xOtXMWZgfp",
        "colab_type": "text"
      },
      "source": [
        "### Flexibility and efficiency of use \n",
        "Accelerators -- unseen by the novice user -- may often speed up the interaction for the expert user such that the system can cater to both inexperienced and experienced users. Allow users to tailor frequent actions.\n",
        "\n",
        "- ![flexibility and efficiency of use](https://raw.githubusercontent.com/mikaylap57/ist/master/images/i8.jpg)\n",
        "\n",
        "The Apple website does not provide many accelerators for users, however it does provide the option to navigate through the menu at the bottom of the website or use the shortcut menu at the top of the screen. The shortcut menu is available to users at all times as they are scrolling down through the website’s page.\n"
      ]
    },
    {
      "cell_type": "markdown",
      "metadata": {
        "id": "F968s-f-ZhGA",
        "colab_type": "text"
      },
      "source": [
        "### Aesthetic and minimalist design\n",
        "Dialogues should not contain information which is irrelevant or rarely needed. Every extra unit of information in a dialogue competes with the relevant units of information and diminishes their relative visibility.\n",
        "\n",
        "- ![aesthetic and minimalist design](https://raw.githubusercontent.com/mikaylap57/ist/master/images/i9.jpg)\n",
        "\n",
        "The website has an aesthetic and minimalist design that allows users to navigate smoothly. Here, the user sees options at the top to navigate to different Apple products and a simple design with minimal text in the center. By using a minimalist design users will have an easier time using the website and avoid being overwhelmed.\n"
      ]
    },
    {
      "cell_type": "markdown",
      "metadata": {
        "id": "WFtkqJ8wZhjx",
        "colab_type": "text"
      },
      "source": [
        "### Help users recognize, diagnose, and recover from errors\n",
        "Error messages should be expressed in plain language (no codes), precisely indicate the problem, and constructively suggest a solution.\n",
        "\n",
        "- ![help users recognize, diagnose, and recover from errors](https://raw.githubusercontent.com/mikaylap57/ist/master/images/i10.jpg)\n",
        "\n",
        "When a user clicks on their shopping cart but has not added anything to their order, they are presented with this screen. The website informs the user that there is an error because their shopping cart is empty. On this page, the website also suggests options to sign in to their account to view saved items or keep shopping in order to resolve the error.\n"
      ]
    },
    {
      "cell_type": "markdown",
      "metadata": {
        "id": "x8_uAFYHZifo",
        "colab_type": "text"
      },
      "source": [
        "### Help and documentation\n",
        "Even though it is better if the system can be used without documentation, it may be necessary to provide help and documentation. Any such information should be easy to search, focused on the user's task, list concrete steps to be carried out, and not be too large.\n",
        "\n",
        "- ![help and documentation](https://raw.githubusercontent.com/mikaylap57/ist/master/images/i11.jpg)\n",
        "\n",
        "The website adheres to this heuristic by providing the user with a source of support if they find that they need help. Users can either search a question they have, watch youtube tutorials, or contact apple support. These options allow the user to easily search information and provide them with steps they should follow.\n"
      ]
    }
  ]
}