{
  "nbformat": 4,
  "nbformat_minor": 0,
  "metadata": {
    "colab": {
      "name": "Lab1Practice.ipynb",
      "provenance": [],
      "toc_visible": true
    },
    "kernelspec": {
      "name": "python3",
      "display_name": "Python 3"
    }
  },
  "cells": [
    {
      "cell_type": "markdown",
      "metadata": {
        "id": "FiVxm4G0mkOz",
        "colab_type": "text"
      },
      "source": [
        "## 1. Do you like using Jupyter Notebooks?\n"
      ]
    },
    {
      "cell_type": "markdown",
      "metadata": {
        "id": "bIrHzsfBnAcw",
        "colab_type": "text"
      },
      "source": [
        "I have never used it before.  However, I am excited to try it out.\n",
        "\n",
        "\n"
      ]
    },
    {
      "cell_type": "markdown",
      "metadata": {
        "id": "yOtcWD2DnaVe",
        "colab_type": "text"
      },
      "source": [
        "## 2. What do you want to learn more about in Jupyter Notebooks?"
      ]
    },
    {
      "cell_type": "markdown",
      "metadata": {
        "id": "-jepYbuUoadY",
        "colab_type": "text"
      },
      "source": [
        "I want to be able to have at least a basic understanding of how it all works. I want to reach a level feeling confident enough to do something simple."
      ]
    },
    {
      "cell_type": "markdown",
      "metadata": {
        "id": "8Lb73HhXvc_X",
        "colab_type": "text"
      },
      "source": [
        "![my dog](http://raw.githubusercontent.com/mikaylap57/ist/master/images/DSC_0003.JPG)"
      ]
    }
  ]
}